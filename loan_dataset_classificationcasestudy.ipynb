{
 "cells": [
  {
   "cell_type": "code",
   "execution_count": 1,
   "metadata": {
    "id": "mgHx7NDmxUG9"
   },
   "outputs": [],
   "source": [
    "# import libraries\n",
    "import pandas as pd\n",
    "import numpy as np\n",
    "import matplotlib.pyplot as plt\n",
    "import seaborn as sns"
   ]
  },
  {
   "cell_type": "code",
   "execution_count": 2,
   "metadata": {
    "id": "aQsnY3EOxq8t"
   },
   "outputs": [],
   "source": [
    "# read the dataset\n",
    "df = pd.read_csv(\"loan_dataset.csv\")"
   ]
  },
  {
   "cell_type": "code",
   "execution_count": 3,
   "metadata": {
    "colab": {
     "base_uri": "https://localhost:8080/",
     "height": 334
    },
    "id": "gF2PZs0Ex1Vq",
    "outputId": "0337e68d-1a06-4c05-bb45-12707107a711"
   },
   "outputs": [
    {
     "data": {
      "text/html": [
       "<div>\n",
       "<style scoped>\n",
       "    .dataframe tbody tr th:only-of-type {\n",
       "        vertical-align: middle;\n",
       "    }\n",
       "\n",
       "    .dataframe tbody tr th {\n",
       "        vertical-align: top;\n",
       "    }\n",
       "\n",
       "    .dataframe thead th {\n",
       "        text-align: right;\n",
       "    }\n",
       "</style>\n",
       "<table border=\"1\" class=\"dataframe\">\n",
       "  <thead>\n",
       "    <tr style=\"text-align: right;\">\n",
       "      <th></th>\n",
       "      <th>loan_id</th>\n",
       "      <th>source</th>\n",
       "      <th>financial_institution</th>\n",
       "      <th>interest_rate</th>\n",
       "      <th>unpaid_principal_bal</th>\n",
       "      <th>loan_term</th>\n",
       "      <th>origination_date</th>\n",
       "      <th>first_payment_date</th>\n",
       "      <th>loan_to_value</th>\n",
       "      <th>number_of_borrowers</th>\n",
       "      <th>...</th>\n",
       "      <th>m4</th>\n",
       "      <th>m5</th>\n",
       "      <th>m6</th>\n",
       "      <th>m7</th>\n",
       "      <th>m8</th>\n",
       "      <th>m9</th>\n",
       "      <th>m10</th>\n",
       "      <th>m11</th>\n",
       "      <th>m12</th>\n",
       "      <th>m13</th>\n",
       "    </tr>\n",
       "  </thead>\n",
       "  <tbody>\n",
       "    <tr>\n",
       "      <th>0</th>\n",
       "      <td>268055008619</td>\n",
       "      <td>Z</td>\n",
       "      <td>Turner, Baldwin and Rhodes</td>\n",
       "      <td>4.250</td>\n",
       "      <td>214000</td>\n",
       "      <td>360</td>\n",
       "      <td>2012-03-01</td>\n",
       "      <td>05/2012</td>\n",
       "      <td>95</td>\n",
       "      <td>1.0</td>\n",
       "      <td>...</td>\n",
       "      <td>0</td>\n",
       "      <td>0</td>\n",
       "      <td>0</td>\n",
       "      <td>1</td>\n",
       "      <td>0</td>\n",
       "      <td>0</td>\n",
       "      <td>0</td>\n",
       "      <td>0</td>\n",
       "      <td>0</td>\n",
       "      <td>1</td>\n",
       "    </tr>\n",
       "    <tr>\n",
       "      <th>1</th>\n",
       "      <td>672831657627</td>\n",
       "      <td>Y</td>\n",
       "      <td>Swanson, Newton and Miller</td>\n",
       "      <td>4.875</td>\n",
       "      <td>144000</td>\n",
       "      <td>360</td>\n",
       "      <td>2012-01-01</td>\n",
       "      <td>03/2012</td>\n",
       "      <td>72</td>\n",
       "      <td>1.0</td>\n",
       "      <td>...</td>\n",
       "      <td>0</td>\n",
       "      <td>0</td>\n",
       "      <td>0</td>\n",
       "      <td>0</td>\n",
       "      <td>0</td>\n",
       "      <td>0</td>\n",
       "      <td>0</td>\n",
       "      <td>1</td>\n",
       "      <td>0</td>\n",
       "      <td>1</td>\n",
       "    </tr>\n",
       "    <tr>\n",
       "      <th>2</th>\n",
       "      <td>742515242108</td>\n",
       "      <td>Z</td>\n",
       "      <td>Thornton-Davis</td>\n",
       "      <td>3.250</td>\n",
       "      <td>366000</td>\n",
       "      <td>180</td>\n",
       "      <td>2012-01-01</td>\n",
       "      <td>03/2012</td>\n",
       "      <td>49</td>\n",
       "      <td>1.0</td>\n",
       "      <td>...</td>\n",
       "      <td>0</td>\n",
       "      <td>0</td>\n",
       "      <td>0</td>\n",
       "      <td>0</td>\n",
       "      <td>0</td>\n",
       "      <td>0</td>\n",
       "      <td>0</td>\n",
       "      <td>0</td>\n",
       "      <td>0</td>\n",
       "      <td>1</td>\n",
       "    </tr>\n",
       "    <tr>\n",
       "      <th>3</th>\n",
       "      <td>601385667462</td>\n",
       "      <td>X</td>\n",
       "      <td>OTHER</td>\n",
       "      <td>4.750</td>\n",
       "      <td>135000</td>\n",
       "      <td>360</td>\n",
       "      <td>2012-02-01</td>\n",
       "      <td>04/2012</td>\n",
       "      <td>46</td>\n",
       "      <td>2.0</td>\n",
       "      <td>...</td>\n",
       "      <td>0</td>\n",
       "      <td>0</td>\n",
       "      <td>0</td>\n",
       "      <td>0</td>\n",
       "      <td>0</td>\n",
       "      <td>1</td>\n",
       "      <td>1</td>\n",
       "      <td>1</td>\n",
       "      <td>1</td>\n",
       "      <td>1</td>\n",
       "    </tr>\n",
       "    <tr>\n",
       "      <th>4</th>\n",
       "      <td>273870029961</td>\n",
       "      <td>X</td>\n",
       "      <td>OTHER</td>\n",
       "      <td>4.750</td>\n",
       "      <td>124000</td>\n",
       "      <td>360</td>\n",
       "      <td>2012-02-01</td>\n",
       "      <td>04/2012</td>\n",
       "      <td>80</td>\n",
       "      <td>1.0</td>\n",
       "      <td>...</td>\n",
       "      <td>3</td>\n",
       "      <td>4</td>\n",
       "      <td>5</td>\n",
       "      <td>6</td>\n",
       "      <td>7</td>\n",
       "      <td>8</td>\n",
       "      <td>9</td>\n",
       "      <td>10</td>\n",
       "      <td>11</td>\n",
       "      <td>1</td>\n",
       "    </tr>\n",
       "  </tbody>\n",
       "</table>\n",
       "<p>5 rows × 29 columns</p>\n",
       "</div>"
      ],
      "text/plain": [
       "        loan_id source       financial_institution  interest_rate  \\\n",
       "0  268055008619      Z  Turner, Baldwin and Rhodes          4.250   \n",
       "1  672831657627      Y  Swanson, Newton and Miller          4.875   \n",
       "2  742515242108      Z              Thornton-Davis          3.250   \n",
       "3  601385667462      X                       OTHER          4.750   \n",
       "4  273870029961      X                       OTHER          4.750   \n",
       "\n",
       "   unpaid_principal_bal  loan_term origination_date first_payment_date  \\\n",
       "0                214000        360       2012-03-01            05/2012   \n",
       "1                144000        360       2012-01-01            03/2012   \n",
       "2                366000        180       2012-01-01            03/2012   \n",
       "3                135000        360       2012-02-01            04/2012   \n",
       "4                124000        360       2012-02-01            04/2012   \n",
       "\n",
       "   loan_to_value  number_of_borrowers  ...  m4  m5 m6  m7  m8  m9  m10  m11  \\\n",
       "0             95                  1.0  ...   0   0  0   1   0   0    0    0   \n",
       "1             72                  1.0  ...   0   0  0   0   0   0    0    1   \n",
       "2             49                  1.0  ...   0   0  0   0   0   0    0    0   \n",
       "3             46                  2.0  ...   0   0  0   0   0   1    1    1   \n",
       "4             80                  1.0  ...   3   4  5   6   7   8    9   10   \n",
       "\n",
       "   m12  m13  \n",
       "0    0    1  \n",
       "1    0    1  \n",
       "2    0    1  \n",
       "3    1    1  \n",
       "4   11    1  \n",
       "\n",
       "[5 rows x 29 columns]"
      ]
     },
     "execution_count": 3,
     "metadata": {},
     "output_type": "execute_result"
    }
   ],
   "source": [
    "df.head()"
   ]
  },
  {
   "cell_type": "code",
   "execution_count": 4,
   "metadata": {
    "colab": {
     "base_uri": "https://localhost:8080/"
    },
    "id": "1PFvmgvmx3pU",
    "outputId": "a880ae08-c1b8-417a-9df2-fb3f45d9a68e"
   },
   "outputs": [
    {
     "data": {
      "text/plain": [
       "(116058, 29)"
      ]
     },
     "execution_count": 4,
     "metadata": {},
     "output_type": "execute_result"
    }
   ],
   "source": [
    "# rows and columns\n",
    "df.shape"
   ]
  },
  {
   "cell_type": "code",
   "execution_count": 5,
   "metadata": {
    "colab": {
     "base_uri": "https://localhost:8080/"
    },
    "id": "DMjaS8Cgx9py",
    "outputId": "4fcf9f86-2280-445b-89c2-e71b83ee7525"
   },
   "outputs": [
    {
     "name": "stdout",
     "output_type": "stream",
     "text": [
      "<class 'pandas.core.frame.DataFrame'>\n",
      "RangeIndex: 116058 entries, 0 to 116057\n",
      "Data columns (total 29 columns):\n",
      " #   Column                    Non-Null Count   Dtype  \n",
      "---  ------                    --------------   -----  \n",
      " 0   loan_id                   116058 non-null  int64  \n",
      " 1   source                    116058 non-null  object \n",
      " 2   financial_institution     116058 non-null  object \n",
      " 3   interest_rate             116058 non-null  float64\n",
      " 4   unpaid_principal_bal      116058 non-null  int64  \n",
      " 5   loan_term                 116058 non-null  int64  \n",
      " 6   origination_date          116058 non-null  object \n",
      " 7   first_payment_date        116058 non-null  object \n",
      " 8   loan_to_value             116058 non-null  int64  \n",
      " 9   number_of_borrowers       116058 non-null  float64\n",
      " 10  debt_to_income_ratio      116058 non-null  float64\n",
      " 11  borrower_credit_score     116058 non-null  float64\n",
      " 12  loan_purpose              116058 non-null  object \n",
      " 13  insurance_percent         116058 non-null  float64\n",
      " 14  co-borrower_credit_score  116058 non-null  float64\n",
      " 15  insurance_type            116058 non-null  float64\n",
      " 16  m1                        116058 non-null  int64  \n",
      " 17  m2                        116058 non-null  int64  \n",
      " 18  m3                        116058 non-null  int64  \n",
      " 19  m4                        116058 non-null  int64  \n",
      " 20  m5                        116058 non-null  int64  \n",
      " 21  m6                        116058 non-null  int64  \n",
      " 22  m7                        116058 non-null  int64  \n",
      " 23  m8                        116058 non-null  int64  \n",
      " 24  m9                        116058 non-null  int64  \n",
      " 25  m10                       116058 non-null  int64  \n",
      " 26  m11                       116058 non-null  int64  \n",
      " 27  m12                       116058 non-null  int64  \n",
      " 28  m13                       116058 non-null  int64  \n",
      "dtypes: float64(7), int64(17), object(5)\n",
      "memory usage: 25.7+ MB\n"
     ]
    }
   ],
   "source": [
    "df.info()"
   ]
  },
  {
   "cell_type": "code",
   "execution_count": 6,
   "metadata": {},
   "outputs": [
    {
     "data": {
      "text/plain": [
       "Index(['loan_id', 'source', 'financial_institution', 'interest_rate',\n",
       "       'unpaid_principal_bal', 'loan_term', 'origination_date',\n",
       "       'first_payment_date', 'loan_to_value', 'number_of_borrowers',\n",
       "       'debt_to_income_ratio', 'borrower_credit_score', 'loan_purpose',\n",
       "       'insurance_percent', 'co-borrower_credit_score', 'insurance_type', 'm1',\n",
       "       'm2', 'm3', 'm4', 'm5', 'm6', 'm7', 'm8', 'm9', 'm10', 'm11', 'm12',\n",
       "       'm13'],\n",
       "      dtype='object')"
      ]
     },
     "execution_count": 6,
     "metadata": {},
     "output_type": "execute_result"
    }
   ],
   "source": [
    "df.columns"
   ]
  },
  {
   "cell_type": "code",
   "execution_count": 7,
   "metadata": {
    "colab": {
     "base_uri": "https://localhost:8080/"
    },
    "id": "zbMOUKySyBeh",
    "outputId": "2083c15d-1ea4-4e55-d629-5f4c577e1116"
   },
   "outputs": [
    {
     "data": {
      "text/plain": [
       "116058"
      ]
     },
     "execution_count": 7,
     "metadata": {},
     "output_type": "execute_result"
    }
   ],
   "source": [
    "# check number unique values in loan id\n",
    "df['loan_id'].nunique()"
   ]
  },
  {
   "cell_type": "code",
   "execution_count": 8,
   "metadata": {
    "id": "gxKW1mqBz6qL"
   },
   "outputs": [],
   "source": [
    "# drop loan id , since its an identifier\n",
    "data1 = df.drop(\"loan_id\", axis=1)"
   ]
  },
  {
   "cell_type": "code",
   "execution_count": 9,
   "metadata": {
    "colab": {
     "base_uri": "https://localhost:8080/"
    },
    "id": "mBXxGgB50WUp",
    "outputId": "c9d3a389-41be-4a0e-ebeb-bf74cff1d59a"
   },
   "outputs": [
    {
     "data": {
      "text/plain": [
       "source                      0\n",
       "financial_institution       0\n",
       "interest_rate               0\n",
       "unpaid_principal_bal        0\n",
       "loan_term                   0\n",
       "origination_date            0\n",
       "first_payment_date          0\n",
       "loan_to_value               0\n",
       "number_of_borrowers         0\n",
       "debt_to_income_ratio        0\n",
       "borrower_credit_score       0\n",
       "loan_purpose                0\n",
       "insurance_percent           0\n",
       "co-borrower_credit_score    0\n",
       "insurance_type              0\n",
       "m1                          0\n",
       "m2                          0\n",
       "m3                          0\n",
       "m4                          0\n",
       "m5                          0\n",
       "m6                          0\n",
       "m7                          0\n",
       "m8                          0\n",
       "m9                          0\n",
       "m10                         0\n",
       "m11                         0\n",
       "m12                         0\n",
       "m13                         0\n",
       "dtype: int64"
      ]
     },
     "execution_count": 9,
     "metadata": {},
     "output_type": "execute_result"
    }
   ],
   "source": [
    "# check for any null values\n",
    "data1.isna().sum()"
   ]
  },
  {
   "cell_type": "code",
   "execution_count": 10,
   "metadata": {
    "colab": {
     "base_uri": "https://localhost:8080/"
    },
    "id": "FWGkWLqf0Zrz",
    "outputId": "b3ddde8b-0386-4afe-dbf2-e4d37ad63926"
   },
   "outputs": [
    {
     "data": {
      "text/plain": [
       "array(['2012-03-01', '2012-01-01', '2012-02-01'], dtype=object)"
      ]
     },
     "execution_count": 10,
     "metadata": {},
     "output_type": "execute_result"
    }
   ],
   "source": [
    "data1['origination_date'].unique()"
   ]
  },
  {
   "cell_type": "code",
   "execution_count": 11,
   "metadata": {},
   "outputs": [],
   "source": [
    "# import datetime to convert object to datetime\n",
    "from datetime import datetime"
   ]
  },
  {
   "cell_type": "code",
   "execution_count": 12,
   "metadata": {
    "id": "ncNFWQ0_1pYL"
   },
   "outputs": [],
   "source": [
    "data1['origination_date']=data1['origination_date'].apply(lambda x: datetime.strptime(x,\"%Y-%m-%d\"))"
   ]
  },
  {
   "cell_type": "code",
   "execution_count": 13,
   "metadata": {},
   "outputs": [
    {
     "data": {
      "text/plain": [
       "array(['2012-03-01T00:00:00.000000000', '2012-01-01T00:00:00.000000000',\n",
       "       '2012-02-01T00:00:00.000000000'], dtype='datetime64[ns]')"
      ]
     },
     "execution_count": 13,
     "metadata": {},
     "output_type": "execute_result"
    }
   ],
   "source": [
    "data1['origination_date'].unique()"
   ]
  },
  {
   "cell_type": "code",
   "execution_count": 14,
   "metadata": {},
   "outputs": [],
   "source": [
    "# create new columns with year and month of orgination date\n",
    "data1['org_year'] = data1['origination_date'].apply(lambda x:x.year)\n",
    "data1['org_month'] = data1['origination_date'].apply(lambda x:x.month)"
   ]
  },
  {
   "cell_type": "code",
   "execution_count": 15,
   "metadata": {},
   "outputs": [
    {
     "data": {
      "text/plain": [
       "array(['05/2012', '03/2012', '04/2012', '02/2012'], dtype=object)"
      ]
     },
     "execution_count": 15,
     "metadata": {},
     "output_type": "execute_result"
    }
   ],
   "source": [
    "data1['first_payment_date'].unique()"
   ]
  },
  {
   "cell_type": "code",
   "execution_count": 16,
   "metadata": {
    "id": "2IKFIkPK2QwJ"
   },
   "outputs": [],
   "source": [
    "# convert first payment date to datetime format\n",
    "data1['first_payment_date']=data1['first_payment_date'].apply(lambda x: datetime.strptime(x,\"%m/%Y\"))"
   ]
  },
  {
   "cell_type": "code",
   "execution_count": 17,
   "metadata": {},
   "outputs": [],
   "source": [
    "# create new columns with year and month of first payment date\n",
    "data1['firstpay_year'] = data1['first_payment_date'].apply(lambda x:x.year)\n",
    "data1['firstpay_month'] = data1['first_payment_date'].apply(lambda x:x.month)"
   ]
  },
  {
   "cell_type": "code",
   "execution_count": 18,
   "metadata": {
    "colab": {
     "base_uri": "https://localhost:8080/"
    },
    "id": "t7ajHVId5QTV",
    "outputId": "811ac799-e31d-41d5-9b66-8a5029cb8c11"
   },
   "outputs": [
    {
     "data": {
      "text/plain": [
       "source                              object\n",
       "financial_institution               object\n",
       "interest_rate                      float64\n",
       "unpaid_principal_bal                 int64\n",
       "loan_term                            int64\n",
       "origination_date            datetime64[ns]\n",
       "first_payment_date          datetime64[ns]\n",
       "loan_to_value                        int64\n",
       "number_of_borrowers                float64\n",
       "debt_to_income_ratio               float64\n",
       "borrower_credit_score              float64\n",
       "loan_purpose                        object\n",
       "insurance_percent                  float64\n",
       "co-borrower_credit_score           float64\n",
       "insurance_type                     float64\n",
       "m1                                   int64\n",
       "m2                                   int64\n",
       "m3                                   int64\n",
       "m4                                   int64\n",
       "m5                                   int64\n",
       "m6                                   int64\n",
       "m7                                   int64\n",
       "m8                                   int64\n",
       "m9                                   int64\n",
       "m10                                  int64\n",
       "m11                                  int64\n",
       "m12                                  int64\n",
       "m13                                  int64\n",
       "org_year                             int64\n",
       "org_month                            int64\n",
       "firstpay_year                        int64\n",
       "firstpay_month                       int64\n",
       "dtype: object"
      ]
     },
     "execution_count": 18,
     "metadata": {},
     "output_type": "execute_result"
    }
   ],
   "source": [
    "data1.dtypes"
   ]
  },
  {
   "cell_type": "code",
   "execution_count": 19,
   "metadata": {
    "colab": {
     "base_uri": "https://localhost:8080/"
    },
    "id": "PLx-Irdi55hU",
    "outputId": "829ecbef-2a33-4552-f3fc-0ac796d156e7"
   },
   "outputs": [],
   "source": [
    "# drop the original columns and keep the new columns\n",
    "data1.drop(['origination_date',\"first_payment_date\"], axis=1, inplace=True)"
   ]
  },
  {
   "cell_type": "code",
   "execution_count": 20,
   "metadata": {},
   "outputs": [
    {
     "data": {
      "text/html": [
       "<div>\n",
       "<style scoped>\n",
       "    .dataframe tbody tr th:only-of-type {\n",
       "        vertical-align: middle;\n",
       "    }\n",
       "\n",
       "    .dataframe tbody tr th {\n",
       "        vertical-align: top;\n",
       "    }\n",
       "\n",
       "    .dataframe thead th {\n",
       "        text-align: right;\n",
       "    }\n",
       "</style>\n",
       "<table border=\"1\" class=\"dataframe\">\n",
       "  <thead>\n",
       "    <tr style=\"text-align: right;\">\n",
       "      <th></th>\n",
       "      <th>source</th>\n",
       "      <th>financial_institution</th>\n",
       "      <th>interest_rate</th>\n",
       "      <th>unpaid_principal_bal</th>\n",
       "      <th>loan_term</th>\n",
       "      <th>loan_to_value</th>\n",
       "      <th>number_of_borrowers</th>\n",
       "      <th>debt_to_income_ratio</th>\n",
       "      <th>borrower_credit_score</th>\n",
       "      <th>loan_purpose</th>\n",
       "      <th>...</th>\n",
       "      <th>m8</th>\n",
       "      <th>m9</th>\n",
       "      <th>m10</th>\n",
       "      <th>m11</th>\n",
       "      <th>m12</th>\n",
       "      <th>m13</th>\n",
       "      <th>org_year</th>\n",
       "      <th>org_month</th>\n",
       "      <th>firstpay_year</th>\n",
       "      <th>firstpay_month</th>\n",
       "    </tr>\n",
       "  </thead>\n",
       "  <tbody>\n",
       "    <tr>\n",
       "      <th>0</th>\n",
       "      <td>Z</td>\n",
       "      <td>Turner, Baldwin and Rhodes</td>\n",
       "      <td>4.250</td>\n",
       "      <td>214000</td>\n",
       "      <td>360</td>\n",
       "      <td>95</td>\n",
       "      <td>1.0</td>\n",
       "      <td>22.0</td>\n",
       "      <td>694.0</td>\n",
       "      <td>C86</td>\n",
       "      <td>...</td>\n",
       "      <td>0</td>\n",
       "      <td>0</td>\n",
       "      <td>0</td>\n",
       "      <td>0</td>\n",
       "      <td>0</td>\n",
       "      <td>1</td>\n",
       "      <td>2012</td>\n",
       "      <td>3</td>\n",
       "      <td>2012</td>\n",
       "      <td>5</td>\n",
       "    </tr>\n",
       "    <tr>\n",
       "      <th>1</th>\n",
       "      <td>Y</td>\n",
       "      <td>Swanson, Newton and Miller</td>\n",
       "      <td>4.875</td>\n",
       "      <td>144000</td>\n",
       "      <td>360</td>\n",
       "      <td>72</td>\n",
       "      <td>1.0</td>\n",
       "      <td>44.0</td>\n",
       "      <td>697.0</td>\n",
       "      <td>B12</td>\n",
       "      <td>...</td>\n",
       "      <td>0</td>\n",
       "      <td>0</td>\n",
       "      <td>0</td>\n",
       "      <td>1</td>\n",
       "      <td>0</td>\n",
       "      <td>1</td>\n",
       "      <td>2012</td>\n",
       "      <td>1</td>\n",
       "      <td>2012</td>\n",
       "      <td>3</td>\n",
       "    </tr>\n",
       "    <tr>\n",
       "      <th>2</th>\n",
       "      <td>Z</td>\n",
       "      <td>Thornton-Davis</td>\n",
       "      <td>3.250</td>\n",
       "      <td>366000</td>\n",
       "      <td>180</td>\n",
       "      <td>49</td>\n",
       "      <td>1.0</td>\n",
       "      <td>33.0</td>\n",
       "      <td>780.0</td>\n",
       "      <td>B12</td>\n",
       "      <td>...</td>\n",
       "      <td>0</td>\n",
       "      <td>0</td>\n",
       "      <td>0</td>\n",
       "      <td>0</td>\n",
       "      <td>0</td>\n",
       "      <td>1</td>\n",
       "      <td>2012</td>\n",
       "      <td>1</td>\n",
       "      <td>2012</td>\n",
       "      <td>3</td>\n",
       "    </tr>\n",
       "    <tr>\n",
       "      <th>3</th>\n",
       "      <td>X</td>\n",
       "      <td>OTHER</td>\n",
       "      <td>4.750</td>\n",
       "      <td>135000</td>\n",
       "      <td>360</td>\n",
       "      <td>46</td>\n",
       "      <td>2.0</td>\n",
       "      <td>44.0</td>\n",
       "      <td>633.0</td>\n",
       "      <td>B12</td>\n",
       "      <td>...</td>\n",
       "      <td>0</td>\n",
       "      <td>1</td>\n",
       "      <td>1</td>\n",
       "      <td>1</td>\n",
       "      <td>1</td>\n",
       "      <td>1</td>\n",
       "      <td>2012</td>\n",
       "      <td>2</td>\n",
       "      <td>2012</td>\n",
       "      <td>4</td>\n",
       "    </tr>\n",
       "    <tr>\n",
       "      <th>4</th>\n",
       "      <td>X</td>\n",
       "      <td>OTHER</td>\n",
       "      <td>4.750</td>\n",
       "      <td>124000</td>\n",
       "      <td>360</td>\n",
       "      <td>80</td>\n",
       "      <td>1.0</td>\n",
       "      <td>43.0</td>\n",
       "      <td>681.0</td>\n",
       "      <td>C86</td>\n",
       "      <td>...</td>\n",
       "      <td>7</td>\n",
       "      <td>8</td>\n",
       "      <td>9</td>\n",
       "      <td>10</td>\n",
       "      <td>11</td>\n",
       "      <td>1</td>\n",
       "      <td>2012</td>\n",
       "      <td>2</td>\n",
       "      <td>2012</td>\n",
       "      <td>4</td>\n",
       "    </tr>\n",
       "  </tbody>\n",
       "</table>\n",
       "<p>5 rows × 30 columns</p>\n",
       "</div>"
      ],
      "text/plain": [
       "  source       financial_institution  interest_rate  unpaid_principal_bal  \\\n",
       "0      Z  Turner, Baldwin and Rhodes          4.250                214000   \n",
       "1      Y  Swanson, Newton and Miller          4.875                144000   \n",
       "2      Z              Thornton-Davis          3.250                366000   \n",
       "3      X                       OTHER          4.750                135000   \n",
       "4      X                       OTHER          4.750                124000   \n",
       "\n",
       "   loan_term  loan_to_value  number_of_borrowers  debt_to_income_ratio  \\\n",
       "0        360             95                  1.0                  22.0   \n",
       "1        360             72                  1.0                  44.0   \n",
       "2        180             49                  1.0                  33.0   \n",
       "3        360             46                  2.0                  44.0   \n",
       "4        360             80                  1.0                  43.0   \n",
       "\n",
       "   borrower_credit_score loan_purpose  ...  m8  m9  m10  m11  m12  m13  \\\n",
       "0                  694.0          C86  ...   0   0    0    0    0    1   \n",
       "1                  697.0          B12  ...   0   0    0    1    0    1   \n",
       "2                  780.0          B12  ...   0   0    0    0    0    1   \n",
       "3                  633.0          B12  ...   0   1    1    1    1    1   \n",
       "4                  681.0          C86  ...   7   8    9   10   11    1   \n",
       "\n",
       "   org_year  org_month  firstpay_year  firstpay_month  \n",
       "0      2012          3           2012               5  \n",
       "1      2012          1           2012               3  \n",
       "2      2012          1           2012               3  \n",
       "3      2012          2           2012               4  \n",
       "4      2012          2           2012               4  \n",
       "\n",
       "[5 rows x 30 columns]"
      ]
     },
     "execution_count": 20,
     "metadata": {},
     "output_type": "execute_result"
    }
   ],
   "source": [
    "data1.head()"
   ]
  },
  {
   "cell_type": "code",
   "execution_count": 21,
   "metadata": {
    "id": "-dllSQ4l3EUb"
   },
   "outputs": [],
   "source": [
    "# encode source ,financial institution and loan purpose columns\n",
    "from sklearn.preprocessing import LabelEncoder"
   ]
  },
  {
   "cell_type": "code",
   "execution_count": 22,
   "metadata": {
    "id": "L3H2BlYV3LAn"
   },
   "outputs": [],
   "source": [
    "le = LabelEncoder()\n",
    "data1['source'] = le.fit_transform(data1['source'])\n",
    "data1['financial_institution'] = le.fit_transform(data1['financial_institution'])\n",
    "data1['loan_purpose'] = le.fit_transform(data1['loan_purpose'])"
   ]
  },
  {
   "cell_type": "code",
   "execution_count": 23,
   "metadata": {
    "id": "zRvv7vW63WJB"
   },
   "outputs": [],
   "source": [
    "# split target and features, 13th month(m13) loan payment is taken as target\n",
    "X = data1.drop('m13', axis=1)\n",
    "y = data1['m13']"
   ]
  },
  {
   "cell_type": "code",
   "execution_count": 24,
   "metadata": {
    "colab": {
     "base_uri": "https://localhost:8080/"
    },
    "id": "f-bMvhP23tZo",
    "outputId": "1d24cacb-da53-46ef-9d71-61fef73ff175"
   },
   "outputs": [
    {
     "data": {
      "text/plain": [
       "array([1, 0], dtype=int64)"
      ]
     },
     "execution_count": 24,
     "metadata": {},
     "output_type": "execute_result"
    }
   ],
   "source": [
    "data1['m13'].unique()"
   ]
  },
  {
   "cell_type": "code",
   "execution_count": 25,
   "metadata": {
    "colab": {
     "base_uri": "https://localhost:8080/",
     "height": 393
    },
    "id": "bqkfRftm30Vj",
    "outputId": "ba456210-bc92-437d-bb9b-66a3fd98852e"
   },
   "outputs": [
    {
     "data": {
      "text/html": [
       "<div>\n",
       "<style scoped>\n",
       "    .dataframe tbody tr th:only-of-type {\n",
       "        vertical-align: middle;\n",
       "    }\n",
       "\n",
       "    .dataframe tbody tr th {\n",
       "        vertical-align: top;\n",
       "    }\n",
       "\n",
       "    .dataframe thead th {\n",
       "        text-align: right;\n",
       "    }\n",
       "</style>\n",
       "<table border=\"1\" class=\"dataframe\">\n",
       "  <thead>\n",
       "    <tr style=\"text-align: right;\">\n",
       "      <th></th>\n",
       "      <th>source</th>\n",
       "      <th>financial_institution</th>\n",
       "      <th>interest_rate</th>\n",
       "      <th>unpaid_principal_bal</th>\n",
       "      <th>loan_term</th>\n",
       "      <th>loan_to_value</th>\n",
       "      <th>number_of_borrowers</th>\n",
       "      <th>debt_to_income_ratio</th>\n",
       "      <th>borrower_credit_score</th>\n",
       "      <th>loan_purpose</th>\n",
       "      <th>...</th>\n",
       "      <th>m8</th>\n",
       "      <th>m9</th>\n",
       "      <th>m10</th>\n",
       "      <th>m11</th>\n",
       "      <th>m12</th>\n",
       "      <th>m13</th>\n",
       "      <th>org_year</th>\n",
       "      <th>org_month</th>\n",
       "      <th>firstpay_year</th>\n",
       "      <th>firstpay_month</th>\n",
       "    </tr>\n",
       "  </thead>\n",
       "  <tbody>\n",
       "    <tr>\n",
       "      <th>count</th>\n",
       "      <td>116058.000000</td>\n",
       "      <td>116058.000000</td>\n",
       "      <td>116058.000000</td>\n",
       "      <td>1.160580e+05</td>\n",
       "      <td>116058.000000</td>\n",
       "      <td>116058.000000</td>\n",
       "      <td>116058.000000</td>\n",
       "      <td>116058.000000</td>\n",
       "      <td>116058.000000</td>\n",
       "      <td>116058.000000</td>\n",
       "      <td>...</td>\n",
       "      <td>116058.000000</td>\n",
       "      <td>116058.000000</td>\n",
       "      <td>116058.000000</td>\n",
       "      <td>116058.000000</td>\n",
       "      <td>116058.000000</td>\n",
       "      <td>116058.000000</td>\n",
       "      <td>116058.0</td>\n",
       "      <td>116058.000000</td>\n",
       "      <td>116058.0</td>\n",
       "      <td>116058.000000</td>\n",
       "    </tr>\n",
       "    <tr>\n",
       "      <th>mean</th>\n",
       "      <td>0.575971</td>\n",
       "      <td>6.517207</td>\n",
       "      <td>3.868961</td>\n",
       "      <td>2.082262e+05</td>\n",
       "      <td>292.280997</td>\n",
       "      <td>67.431939</td>\n",
       "      <td>1.593186</td>\n",
       "      <td>30.742293</td>\n",
       "      <td>769.926778</td>\n",
       "      <td>0.739363</td>\n",
       "      <td>...</td>\n",
       "      <td>0.004825</td>\n",
       "      <td>0.005359</td>\n",
       "      <td>0.006617</td>\n",
       "      <td>0.007109</td>\n",
       "      <td>0.008065</td>\n",
       "      <td>0.005480</td>\n",
       "      <td>2012.0</td>\n",
       "      <td>1.703062</td>\n",
       "      <td>2012.0</td>\n",
       "      <td>3.709507</td>\n",
       "    </tr>\n",
       "    <tr>\n",
       "      <th>std</th>\n",
       "      <td>0.704715</td>\n",
       "      <td>4.450898</td>\n",
       "      <td>0.461020</td>\n",
       "      <td>1.146851e+05</td>\n",
       "      <td>89.762415</td>\n",
       "      <td>17.291719</td>\n",
       "      <td>0.491242</td>\n",
       "      <td>9.730798</td>\n",
       "      <td>42.210706</td>\n",
       "      <td>0.823953</td>\n",
       "      <td>...</td>\n",
       "      <td>0.113128</td>\n",
       "      <td>0.128242</td>\n",
       "      <td>0.148430</td>\n",
       "      <td>0.162884</td>\n",
       "      <td>0.178128</td>\n",
       "      <td>0.073824</td>\n",
       "      <td>0.0</td>\n",
       "      <td>0.678898</td>\n",
       "      <td>0.0</td>\n",
       "      <td>0.688385</td>\n",
       "    </tr>\n",
       "    <tr>\n",
       "      <th>min</th>\n",
       "      <td>0.000000</td>\n",
       "      <td>0.000000</td>\n",
       "      <td>2.250000</td>\n",
       "      <td>1.100000e+04</td>\n",
       "      <td>60.000000</td>\n",
       "      <td>6.000000</td>\n",
       "      <td>1.000000</td>\n",
       "      <td>1.000000</td>\n",
       "      <td>0.000000</td>\n",
       "      <td>0.000000</td>\n",
       "      <td>...</td>\n",
       "      <td>0.000000</td>\n",
       "      <td>0.000000</td>\n",
       "      <td>0.000000</td>\n",
       "      <td>0.000000</td>\n",
       "      <td>0.000000</td>\n",
       "      <td>0.000000</td>\n",
       "      <td>2012.0</td>\n",
       "      <td>1.000000</td>\n",
       "      <td>2012.0</td>\n",
       "      <td>2.000000</td>\n",
       "    </tr>\n",
       "    <tr>\n",
       "      <th>25%</th>\n",
       "      <td>0.000000</td>\n",
       "      <td>1.000000</td>\n",
       "      <td>3.500000</td>\n",
       "      <td>1.200000e+05</td>\n",
       "      <td>180.000000</td>\n",
       "      <td>57.000000</td>\n",
       "      <td>1.000000</td>\n",
       "      <td>23.000000</td>\n",
       "      <td>751.000000</td>\n",
       "      <td>0.000000</td>\n",
       "      <td>...</td>\n",
       "      <td>0.000000</td>\n",
       "      <td>0.000000</td>\n",
       "      <td>0.000000</td>\n",
       "      <td>0.000000</td>\n",
       "      <td>0.000000</td>\n",
       "      <td>0.000000</td>\n",
       "      <td>2012.0</td>\n",
       "      <td>1.000000</td>\n",
       "      <td>2012.0</td>\n",
       "      <td>3.000000</td>\n",
       "    </tr>\n",
       "    <tr>\n",
       "      <th>50%</th>\n",
       "      <td>0.000000</td>\n",
       "      <td>8.000000</td>\n",
       "      <td>3.875000</td>\n",
       "      <td>1.830000e+05</td>\n",
       "      <td>360.000000</td>\n",
       "      <td>72.000000</td>\n",
       "      <td>2.000000</td>\n",
       "      <td>31.000000</td>\n",
       "      <td>782.000000</td>\n",
       "      <td>0.000000</td>\n",
       "      <td>...</td>\n",
       "      <td>0.000000</td>\n",
       "      <td>0.000000</td>\n",
       "      <td>0.000000</td>\n",
       "      <td>0.000000</td>\n",
       "      <td>0.000000</td>\n",
       "      <td>0.000000</td>\n",
       "      <td>2012.0</td>\n",
       "      <td>2.000000</td>\n",
       "      <td>2012.0</td>\n",
       "      <td>4.000000</td>\n",
       "    </tr>\n",
       "    <tr>\n",
       "      <th>75%</th>\n",
       "      <td>1.000000</td>\n",
       "      <td>8.000000</td>\n",
       "      <td>4.125000</td>\n",
       "      <td>2.780000e+05</td>\n",
       "      <td>360.000000</td>\n",
       "      <td>80.000000</td>\n",
       "      <td>2.000000</td>\n",
       "      <td>39.000000</td>\n",
       "      <td>800.000000</td>\n",
       "      <td>1.000000</td>\n",
       "      <td>...</td>\n",
       "      <td>0.000000</td>\n",
       "      <td>0.000000</td>\n",
       "      <td>0.000000</td>\n",
       "      <td>0.000000</td>\n",
       "      <td>0.000000</td>\n",
       "      <td>0.000000</td>\n",
       "      <td>2012.0</td>\n",
       "      <td>2.000000</td>\n",
       "      <td>2012.0</td>\n",
       "      <td>4.000000</td>\n",
       "    </tr>\n",
       "    <tr>\n",
       "      <th>max</th>\n",
       "      <td>2.000000</td>\n",
       "      <td>18.000000</td>\n",
       "      <td>6.750000</td>\n",
       "      <td>1.200000e+06</td>\n",
       "      <td>360.000000</td>\n",
       "      <td>97.000000</td>\n",
       "      <td>2.000000</td>\n",
       "      <td>64.000000</td>\n",
       "      <td>840.000000</td>\n",
       "      <td>2.000000</td>\n",
       "      <td>...</td>\n",
       "      <td>10.000000</td>\n",
       "      <td>11.000000</td>\n",
       "      <td>12.000000</td>\n",
       "      <td>13.000000</td>\n",
       "      <td>14.000000</td>\n",
       "      <td>1.000000</td>\n",
       "      <td>2012.0</td>\n",
       "      <td>3.000000</td>\n",
       "      <td>2012.0</td>\n",
       "      <td>5.000000</td>\n",
       "    </tr>\n",
       "  </tbody>\n",
       "</table>\n",
       "<p>8 rows × 30 columns</p>\n",
       "</div>"
      ],
      "text/plain": [
       "              source  financial_institution  interest_rate  \\\n",
       "count  116058.000000          116058.000000  116058.000000   \n",
       "mean        0.575971               6.517207       3.868961   \n",
       "std         0.704715               4.450898       0.461020   \n",
       "min         0.000000               0.000000       2.250000   \n",
       "25%         0.000000               1.000000       3.500000   \n",
       "50%         0.000000               8.000000       3.875000   \n",
       "75%         1.000000               8.000000       4.125000   \n",
       "max         2.000000              18.000000       6.750000   \n",
       "\n",
       "       unpaid_principal_bal      loan_term  loan_to_value  \\\n",
       "count          1.160580e+05  116058.000000  116058.000000   \n",
       "mean           2.082262e+05     292.280997      67.431939   \n",
       "std            1.146851e+05      89.762415      17.291719   \n",
       "min            1.100000e+04      60.000000       6.000000   \n",
       "25%            1.200000e+05     180.000000      57.000000   \n",
       "50%            1.830000e+05     360.000000      72.000000   \n",
       "75%            2.780000e+05     360.000000      80.000000   \n",
       "max            1.200000e+06     360.000000      97.000000   \n",
       "\n",
       "       number_of_borrowers  debt_to_income_ratio  borrower_credit_score  \\\n",
       "count        116058.000000         116058.000000          116058.000000   \n",
       "mean              1.593186             30.742293             769.926778   \n",
       "std               0.491242              9.730798              42.210706   \n",
       "min               1.000000              1.000000               0.000000   \n",
       "25%               1.000000             23.000000             751.000000   \n",
       "50%               2.000000             31.000000             782.000000   \n",
       "75%               2.000000             39.000000             800.000000   \n",
       "max               2.000000             64.000000             840.000000   \n",
       "\n",
       "        loan_purpose  ...             m8             m9            m10  \\\n",
       "count  116058.000000  ...  116058.000000  116058.000000  116058.000000   \n",
       "mean        0.739363  ...       0.004825       0.005359       0.006617   \n",
       "std         0.823953  ...       0.113128       0.128242       0.148430   \n",
       "min         0.000000  ...       0.000000       0.000000       0.000000   \n",
       "25%         0.000000  ...       0.000000       0.000000       0.000000   \n",
       "50%         0.000000  ...       0.000000       0.000000       0.000000   \n",
       "75%         1.000000  ...       0.000000       0.000000       0.000000   \n",
       "max         2.000000  ...      10.000000      11.000000      12.000000   \n",
       "\n",
       "                 m11            m12            m13  org_year      org_month  \\\n",
       "count  116058.000000  116058.000000  116058.000000  116058.0  116058.000000   \n",
       "mean        0.007109       0.008065       0.005480    2012.0       1.703062   \n",
       "std         0.162884       0.178128       0.073824       0.0       0.678898   \n",
       "min         0.000000       0.000000       0.000000    2012.0       1.000000   \n",
       "25%         0.000000       0.000000       0.000000    2012.0       1.000000   \n",
       "50%         0.000000       0.000000       0.000000    2012.0       2.000000   \n",
       "75%         0.000000       0.000000       0.000000    2012.0       2.000000   \n",
       "max        13.000000      14.000000       1.000000    2012.0       3.000000   \n",
       "\n",
       "       firstpay_year  firstpay_month  \n",
       "count       116058.0   116058.000000  \n",
       "mean          2012.0        3.709507  \n",
       "std              0.0        0.688385  \n",
       "min           2012.0        2.000000  \n",
       "25%           2012.0        3.000000  \n",
       "50%           2012.0        4.000000  \n",
       "75%           2012.0        4.000000  \n",
       "max           2012.0        5.000000  \n",
       "\n",
       "[8 rows x 30 columns]"
      ]
     },
     "execution_count": 25,
     "metadata": {},
     "output_type": "execute_result"
    }
   ],
   "source": [
    "# the summary statistics\n",
    "data1.describe()"
   ]
  },
  {
   "cell_type": "code",
   "execution_count": 26,
   "metadata": {
    "id": "1Li3SMxl33BS"
   },
   "outputs": [],
   "source": [
    "# split the model into testing and training\n",
    "from sklearn.model_selection import train_test_split"
   ]
  },
  {
   "cell_type": "code",
   "execution_count": 27,
   "metadata": {
    "id": "k7pwLElc4SfS"
   },
   "outputs": [],
   "source": [
    "X_train, X_test, y_train, y_test = train_test_split(X,y, test_size=0.2, random_state=42)"
   ]
  },
  {
   "cell_type": "markdown",
   "metadata": {},
   "source": [
    "### Logistic Regression model"
   ]
  },
  {
   "cell_type": "code",
   "execution_count": 28,
   "metadata": {
    "id": "cFCULNUq444A"
   },
   "outputs": [],
   "source": [
    "from sklearn.linear_model import LogisticRegression"
   ]
  },
  {
   "cell_type": "code",
   "execution_count": 29,
   "metadata": {
    "colab": {
     "base_uri": "https://localhost:8080/"
    },
    "id": "vHHQ300a5FQ3",
    "outputId": "c2ebcdee-e202-4440-96af-b9aa9610e680"
   },
   "outputs": [
    {
     "name": "stderr",
     "output_type": "stream",
     "text": [
      "C:\\Users\\JINCY\\anaconda3\\lib\\site-packages\\sklearn\\linear_model\\_logistic.py:763: ConvergenceWarning: lbfgs failed to converge (status=1):\n",
      "STOP: TOTAL NO. of ITERATIONS REACHED LIMIT.\n",
      "\n",
      "Increase the number of iterations (max_iter) or scale the data as shown in:\n",
      "    https://scikit-learn.org/stable/modules/preprocessing.html\n",
      "Please also refer to the documentation for alternative solver options:\n",
      "    https://scikit-learn.org/stable/modules/linear_model.html#logistic-regression\n",
      "  n_iter_i = _check_optimize_result(\n"
     ]
    }
   ],
   "source": [
    "log_reg = LogisticRegression()\n",
    "log_reg_model = log_reg.fit(X_train,y_train)\n",
    "log_pred = log_reg_model.predict(X_test)"
   ]
  },
  {
   "cell_type": "code",
   "execution_count": 30,
   "metadata": {
    "id": "nlHqR_kS5Jdj"
   },
   "outputs": [],
   "source": [
    "from sklearn.metrics import confusion_matrix,accuracy_score"
   ]
  },
  {
   "cell_type": "code",
   "execution_count": 31,
   "metadata": {
    "colab": {
     "base_uri": "https://localhost:8080/"
    },
    "id": "VhQOHrwJ7nso",
    "outputId": "af4b7450-e96a-49f9-fb62-0a681b3b38d0"
   },
   "outputs": [
    {
     "name": "stdout",
     "output_type": "stream",
     "text": [
      "Confusion matrix is :\n",
      " [[23080     4]\n",
      " [  128     0]]\n"
     ]
    }
   ],
   "source": [
    "print(\"Confusion matrix is :\\n\", confusion_matrix(y_test,log_pred))"
   ]
  },
  {
   "cell_type": "code",
   "execution_count": 32,
   "metadata": {
    "colab": {
     "base_uri": "https://localhost:8080/"
    },
    "id": "8WPfxfFS7p-q",
    "outputId": "6f1382dd-d625-4659-e296-5dac82d63977"
   },
   "outputs": [
    {
     "name": "stdout",
     "output_type": "stream",
     "text": [
      "Accuracy score is: 0.9943132862312597\n"
     ]
    }
   ],
   "source": [
    "print(\"Accuracy score is:\",accuracy_score(y_test, log_pred))"
   ]
  },
  {
   "cell_type": "markdown",
   "metadata": {
    "id": "SXYUixjU78Wo"
   },
   "source": [
    "### SVM model"
   ]
  },
  {
   "cell_type": "code",
   "execution_count": 33,
   "metadata": {},
   "outputs": [],
   "source": [
    "from sklearn.svm import SVC"
   ]
  },
  {
   "cell_type": "code",
   "execution_count": 34,
   "metadata": {},
   "outputs": [],
   "source": [
    "svm = SVC(kernel=\"rbf\")\n",
    "svm_model = svm.fit(X_train, y_train)\n",
    "svm_pred = svm_model.predict(X_test)"
   ]
  },
  {
   "cell_type": "code",
   "execution_count": 35,
   "metadata": {},
   "outputs": [
    {
     "name": "stdout",
     "output_type": "stream",
     "text": [
      "Confusion matrix is :\n",
      " [[23084     0]\n",
      " [  128     0]]\n"
     ]
    }
   ],
   "source": [
    "print(\"Confusion matrix is :\\n\", confusion_matrix(y_test,svm_pred))"
   ]
  },
  {
   "cell_type": "code",
   "execution_count": 36,
   "metadata": {},
   "outputs": [
    {
     "name": "stdout",
     "output_type": "stream",
     "text": [
      "Accuracy score is: 0.9944856108909185\n"
     ]
    }
   ],
   "source": [
    "print(\"Accuracy score is:\",accuracy_score(y_test, svm_pred))"
   ]
  },
  {
   "cell_type": "markdown",
   "metadata": {},
   "source": [
    "### KNN model"
   ]
  },
  {
   "cell_type": "code",
   "execution_count": 37,
   "metadata": {},
   "outputs": [],
   "source": [
    "from sklearn.neighbors import KNeighborsClassifier"
   ]
  },
  {
   "cell_type": "code",
   "execution_count": 38,
   "metadata": {},
   "outputs": [],
   "source": [
    "accuracy=[]\n",
    "neighbors = range(3,15)\n",
    "\n",
    "for neighbor in neighbors:\n",
    "    knn = KNeighborsClassifier(n_neighbors=neighbor)\n",
    "    knn_model = knn.fit(X_train, y_train)\n",
    "    knn_pred = knn_model.predict(X_test)\n",
    "    accuracy.append(accuracy_score(y_test, knn_pred))"
   ]
  },
  {
   "cell_type": "code",
   "execution_count": 39,
   "metadata": {},
   "outputs": [
    {
     "data": {
      "image/png": "[encoded data removed]",
      "text/plain": [
       "<Figure size 432x288 with 1 Axes>"
      ]
     },
     "metadata": {
      "needs_background": "light"
     },
     "output_type": "display_data"
    }
   ],
   "source": [
    "plt.plot(neighbors, accuracy,\"o-\")\n",
    "plt.xlabel(\"k-value\")\n",
    "plt.ylabel(\"accuracy\")\n",
    "plt.grid()\n",
    "plt.show()"
   ]
  },
  {
   "cell_type": "code",
   "execution_count": 40,
   "metadata": {},
   "outputs": [],
   "source": [
    "knn = KNeighborsClassifier(n_neighbors=6)\n",
    "knn_model1 = knn.fit(X_train, y_train)\n",
    "knn_pred1 = knn_model1.predict(X_test)"
   ]
  },
  {
   "cell_type": "code",
   "execution_count": 41,
   "metadata": {},
   "outputs": [
    {
     "name": "stdout",
     "output_type": "stream",
     "text": [
      "Confusion matrix is :\n",
      " [[23084     0]\n",
      " [  128     0]]\n"
     ]
    }
   ],
   "source": [
    "print(\"Confusion matrix is :\\n\", confusion_matrix(y_test,knn_pred1))"
   ]
  },
  {
   "cell_type": "code",
   "execution_count": 42,
   "metadata": {},
   "outputs": [
    {
     "name": "stdout",
     "output_type": "stream",
     "text": [
      "Accuracy score is: 0.9944856108909185\n"
     ]
    }
   ],
   "source": [
    "print(\"Accuracy score is:\",accuracy_score(y_test, knn_pred1))"
   ]
  },
  {
   "cell_type": "markdown",
   "metadata": {},
   "source": [
    "### Decision Tree model"
   ]
  },
  {
   "cell_type": "code",
   "execution_count": 43,
   "metadata": {},
   "outputs": [],
   "source": [
    "from sklearn.tree import DecisionTreeClassifier"
   ]
  },
  {
   "cell_type": "code",
   "execution_count": 44,
   "metadata": {},
   "outputs": [],
   "source": [
    "dt = DecisionTreeClassifier()\n",
    "dt_model = dt.fit(X_train,y_train)\n",
    "dt_pred = dt_model.predict(X_test)"
   ]
  },
  {
   "cell_type": "code",
   "execution_count": 45,
   "metadata": {},
   "outputs": [
    {
     "name": "stdout",
     "output_type": "stream",
     "text": [
      "Confusion matrix is :\n",
      " [[22973   111]\n",
      " [   82    46]]\n"
     ]
    }
   ],
   "source": [
    "print(\"Confusion matrix is :\\n\", confusion_matrix(y_test,dt_pred))"
   ]
  },
  {
   "cell_type": "code",
   "execution_count": 46,
   "metadata": {},
   "outputs": [
    {
     "name": "stdout",
     "output_type": "stream",
     "text": [
      "Accuracy score is: 0.9916853351714631\n"
     ]
    }
   ],
   "source": [
    "print(\"Accuracy score is:\",accuracy_score(y_test, dt_pred))"
   ]
  },
  {
   "cell_type": "markdown",
   "metadata": {},
   "source": [
    "### Random Forest Algorithm model"
   ]
  },
  {
   "cell_type": "code",
   "execution_count": 47,
   "metadata": {},
   "outputs": [],
   "source": [
    "from sklearn.ensemble import RandomForestClassifier"
   ]
  },
  {
   "cell_type": "code",
   "execution_count": 48,
   "metadata": {},
   "outputs": [],
   "source": [
    "rfc = RandomForestClassifier()\n",
    "rfc_model = rfc.fit(X_train, y_train)\n",
    "rfc_pred = rfc_model.predict(X_test)"
   ]
  },
  {
   "cell_type": "code",
   "execution_count": 49,
   "metadata": {},
   "outputs": [
    {
     "name": "stdout",
     "output_type": "stream",
     "text": [
      "Confusion matrix is :\n",
      " [[23072    12]\n",
      " [   83    45]]\n"
     ]
    }
   ],
   "source": [
    "print(\"Confusion matrix is :\\n\", confusion_matrix(y_test,rfc_pred))"
   ]
  },
  {
   "cell_type": "code",
   "execution_count": 50,
   "metadata": {},
   "outputs": [
    {
     "name": "stdout",
     "output_type": "stream",
     "text": [
      "Accuracy score is: 0.9959072893331036\n"
     ]
    }
   ],
   "source": [
    "print(\"Accuracy score is:\",accuracy_score(y_test, rfc_pred))"
   ]
  },
  {
   "cell_type": "markdown",
   "metadata": {},
   "source": [
    "Random Forest Classification model gives the best accuracy(99.59%)."
   ]
  },
  {
   "cell_type": "markdown",
   "metadata": {},
   "source": [
    "#### Scaling the data"
   ]
  },
  {
   "cell_type": "code",
   "execution_count": 51,
   "metadata": {},
   "outputs": [],
   "source": [
    "from sklearn.preprocessing import StandardScaler"
   ]
  },
  {
   "cell_type": "code",
   "execution_count": 52,
   "metadata": {},
   "outputs": [],
   "source": [
    "\n",
    "std_scale = StandardScaler()\n",
    "X.iloc[:] = std_scale.fit_transform(X.iloc[:])\n"
   ]
  },
  {
   "cell_type": "code",
   "execution_count": 53,
   "metadata": {},
   "outputs": [
    {
     "data": {
      "text/html": [
       "<div>\n",
       "<style scoped>\n",
       "    .dataframe tbody tr th:only-of-type {\n",
       "        vertical-align: middle;\n",
       "    }\n",
       "\n",
       "    .dataframe tbody tr th {\n",
       "        vertical-align: top;\n",
       "    }\n",
       "\n",
       "    .dataframe thead th {\n",
       "        text-align: right;\n",
       "    }\n",
       "</style>\n",
       "<table border=\"1\" class=\"dataframe\">\n",
       "  <thead>\n",
       "    <tr style=\"text-align: right;\">\n",
       "      <th></th>\n",
       "      <th>source</th>\n",
       "      <th>financial_institution</th>\n",
       "      <th>interest_rate</th>\n",
       "      <th>unpaid_principal_bal</th>\n",
       "      <th>loan_term</th>\n",
       "      <th>loan_to_value</th>\n",
       "      <th>number_of_borrowers</th>\n",
       "      <th>debt_to_income_ratio</th>\n",
       "      <th>borrower_credit_score</th>\n",
       "      <th>loan_purpose</th>\n",
       "      <th>...</th>\n",
       "      <th>m7</th>\n",
       "      <th>m8</th>\n",
       "      <th>m9</th>\n",
       "      <th>m10</th>\n",
       "      <th>m11</th>\n",
       "      <th>m12</th>\n",
       "      <th>org_year</th>\n",
       "      <th>org_month</th>\n",
       "      <th>firstpay_year</th>\n",
       "      <th>firstpay_month</th>\n",
       "    </tr>\n",
       "  </thead>\n",
       "  <tbody>\n",
       "    <tr>\n",
       "      <th>count</th>\n",
       "      <td>1.160580e+05</td>\n",
       "      <td>1.160580e+05</td>\n",
       "      <td>1.160580e+05</td>\n",
       "      <td>1.160580e+05</td>\n",
       "      <td>1.160580e+05</td>\n",
       "      <td>1.160580e+05</td>\n",
       "      <td>1.160580e+05</td>\n",
       "      <td>1.160580e+05</td>\n",
       "      <td>1.160580e+05</td>\n",
       "      <td>1.160580e+05</td>\n",
       "      <td>...</td>\n",
       "      <td>1.160580e+05</td>\n",
       "      <td>1.160580e+05</td>\n",
       "      <td>1.160580e+05</td>\n",
       "      <td>1.160580e+05</td>\n",
       "      <td>1.160580e+05</td>\n",
       "      <td>1.160580e+05</td>\n",
       "      <td>116058.0</td>\n",
       "      <td>1.160580e+05</td>\n",
       "      <td>116058.0</td>\n",
       "      <td>1.160580e+05</td>\n",
       "    </tr>\n",
       "    <tr>\n",
       "      <th>mean</th>\n",
       "      <td>-3.547548e-15</td>\n",
       "      <td>1.478315e-15</td>\n",
       "      <td>4.469170e-16</td>\n",
       "      <td>-5.671026e-17</td>\n",
       "      <td>3.339967e-16</td>\n",
       "      <td>-6.726426e-16</td>\n",
       "      <td>-1.571481e-16</td>\n",
       "      <td>-4.558249e-17</td>\n",
       "      <td>1.053441e-15</td>\n",
       "      <td>1.829718e-15</td>\n",
       "      <td>...</td>\n",
       "      <td>-1.289509e-14</td>\n",
       "      <td>-3.712566e-14</td>\n",
       "      <td>-2.005542e-14</td>\n",
       "      <td>-1.414341e-14</td>\n",
       "      <td>4.808151e-15</td>\n",
       "      <td>-4.810822e-14</td>\n",
       "      <td>0.0</td>\n",
       "      <td>1.783428e-16</td>\n",
       "      <td>0.0</td>\n",
       "      <td>-2.084179e-15</td>\n",
       "    </tr>\n",
       "    <tr>\n",
       "      <th>std</th>\n",
       "      <td>1.000004e+00</td>\n",
       "      <td>1.000004e+00</td>\n",
       "      <td>1.000004e+00</td>\n",
       "      <td>1.000004e+00</td>\n",
       "      <td>1.000004e+00</td>\n",
       "      <td>1.000004e+00</td>\n",
       "      <td>1.000004e+00</td>\n",
       "      <td>1.000004e+00</td>\n",
       "      <td>1.000004e+00</td>\n",
       "      <td>1.000004e+00</td>\n",
       "      <td>...</td>\n",
       "      <td>1.000004e+00</td>\n",
       "      <td>1.000004e+00</td>\n",
       "      <td>1.000004e+00</td>\n",
       "      <td>1.000004e+00</td>\n",
       "      <td>1.000004e+00</td>\n",
       "      <td>1.000004e+00</td>\n",
       "      <td>0.0</td>\n",
       "      <td>1.000004e+00</td>\n",
       "      <td>0.0</td>\n",
       "      <td>1.000004e+00</td>\n",
       "    </tr>\n",
       "    <tr>\n",
       "      <th>min</th>\n",
       "      <td>-8.173131e-01</td>\n",
       "      <td>-1.464252e+00</td>\n",
       "      <td>-3.511708e+00</td>\n",
       "      <td>-1.719727e+00</td>\n",
       "      <td>-2.587742e+00</td>\n",
       "      <td>-3.552695e+00</td>\n",
       "      <td>-1.207529e+00</td>\n",
       "      <td>-3.056524e+00</td>\n",
       "      <td>-1.824016e+01</td>\n",
       "      <td>-8.973400e-01</td>\n",
       "      <td>...</td>\n",
       "      <td>-4.122105e-02</td>\n",
       "      <td>-4.265242e-02</td>\n",
       "      <td>-4.179149e-02</td>\n",
       "      <td>-4.458259e-02</td>\n",
       "      <td>-4.364174e-02</td>\n",
       "      <td>-4.527618e-02</td>\n",
       "      <td>0.0</td>\n",
       "      <td>-1.035598e+00</td>\n",
       "      <td>0.0</td>\n",
       "      <td>-2.483371e+00</td>\n",
       "    </tr>\n",
       "    <tr>\n",
       "      <th>25%</th>\n",
       "      <td>-8.173131e-01</td>\n",
       "      <td>-1.239577e+00</td>\n",
       "      <td>-8.003173e-01</td>\n",
       "      <td>-7.692944e-01</td>\n",
       "      <td>-1.250874e+00</td>\n",
       "      <td>-6.032936e-01</td>\n",
       "      <td>-1.207529e+00</td>\n",
       "      <td>-7.956517e-01</td>\n",
       "      <td>-4.483900e-01</td>\n",
       "      <td>-8.973400e-01</td>\n",
       "      <td>...</td>\n",
       "      <td>-4.122105e-02</td>\n",
       "      <td>-4.265242e-02</td>\n",
       "      <td>-4.179149e-02</td>\n",
       "      <td>-4.458259e-02</td>\n",
       "      <td>-4.364174e-02</td>\n",
       "      <td>-4.527618e-02</td>\n",
       "      <td>0.0</td>\n",
       "      <td>-1.035598e+00</td>\n",
       "      <td>0.0</td>\n",
       "      <td>-1.030689e+00</td>\n",
       "    </tr>\n",
       "    <tr>\n",
       "      <th>50%</th>\n",
       "      <td>-8.173131e-01</td>\n",
       "      <td>3.331462e-01</td>\n",
       "      <td>1.309988e-02</td>\n",
       "      <td>-2.199617e-01</td>\n",
       "      <td>7.544282e-01</td>\n",
       "      <td>2.641773e-01</td>\n",
       "      <td>8.281373e-01</td>\n",
       "      <td>2.648380e-02</td>\n",
       "      <td>2.860240e-01</td>\n",
       "      <td>-8.973400e-01</td>\n",
       "      <td>...</td>\n",
       "      <td>-4.122105e-02</td>\n",
       "      <td>-4.265242e-02</td>\n",
       "      <td>-4.179149e-02</td>\n",
       "      <td>-4.458259e-02</td>\n",
       "      <td>-4.364174e-02</td>\n",
       "      <td>-4.527618e-02</td>\n",
       "      <td>0.0</td>\n",
       "      <td>4.373840e-01</td>\n",
       "      <td>0.0</td>\n",
       "      <td>4.219936e-01</td>\n",
       "    </tr>\n",
       "    <tr>\n",
       "      <th>75%</th>\n",
       "      <td>6.017056e-01</td>\n",
       "      <td>3.331462e-01</td>\n",
       "      <td>5.553780e-01</td>\n",
       "      <td>6.083971e-01</td>\n",
       "      <td>7.544282e-01</td>\n",
       "      <td>7.268285e-01</td>\n",
       "      <td>8.281373e-01</td>\n",
       "      <td>8.486193e-01</td>\n",
       "      <td>7.124579e-01</td>\n",
       "      <td>3.163262e-01</td>\n",
       "      <td>...</td>\n",
       "      <td>-4.122105e-02</td>\n",
       "      <td>-4.265242e-02</td>\n",
       "      <td>-4.179149e-02</td>\n",
       "      <td>-4.458259e-02</td>\n",
       "      <td>-4.364174e-02</td>\n",
       "      <td>-4.527618e-02</td>\n",
       "      <td>0.0</td>\n",
       "      <td>4.373840e-01</td>\n",
       "      <td>0.0</td>\n",
       "      <td>4.219936e-01</td>\n",
       "    </tr>\n",
       "    <tr>\n",
       "      <th>max</th>\n",
       "      <td>2.020724e+00</td>\n",
       "      <td>2.579894e+00</td>\n",
       "      <td>6.249298e+00</td>\n",
       "      <td>8.647837e+00</td>\n",
       "      <td>7.544282e-01</td>\n",
       "      <td>1.709962e+00</td>\n",
       "      <td>8.281373e-01</td>\n",
       "      <td>3.417793e+00</td>\n",
       "      <td>1.660089e+00</td>\n",
       "      <td>1.529992e+00</td>\n",
       "      <td>...</td>\n",
       "      <td>8.910225e+01</td>\n",
       "      <td>8.835297e+01</td>\n",
       "      <td>8.573409e+01</td>\n",
       "      <td>8.080176e+01</td>\n",
       "      <td>7.976805e+01</td>\n",
       "      <td>7.855011e+01</td>\n",
       "      <td>0.0</td>\n",
       "      <td>1.910366e+00</td>\n",
       "      <td>0.0</td>\n",
       "      <td>1.874676e+00</td>\n",
       "    </tr>\n",
       "  </tbody>\n",
       "</table>\n",
       "<p>8 rows × 29 columns</p>\n",
       "</div>"
      ],
      "text/plain": [
       "             source  financial_institution  interest_rate  \\\n",
       "count  1.160580e+05           1.160580e+05   1.160580e+05   \n",
       "mean  -3.547548e-15           1.478315e-15   4.469170e-16   \n",
       "std    1.000004e+00           1.000004e+00   1.000004e+00   \n",
       "min   -8.173131e-01          -1.464252e+00  -3.511708e+00   \n",
       "25%   -8.173131e-01          -1.239577e+00  -8.003173e-01   \n",
       "50%   -8.173131e-01           3.331462e-01   1.309988e-02   \n",
       "75%    6.017056e-01           3.331462e-01   5.553780e-01   \n",
       "max    2.020724e+00           2.579894e+00   6.249298e+00   \n",
       "\n",
       "       unpaid_principal_bal     loan_term  loan_to_value  number_of_borrowers  \\\n",
       "count          1.160580e+05  1.160580e+05   1.160580e+05         1.160580e+05   \n",
       "mean          -5.671026e-17  3.339967e-16  -6.726426e-16        -1.571481e-16   \n",
       "std            1.000004e+00  1.000004e+00   1.000004e+00         1.000004e+00   \n",
       "min           -1.719727e+00 -2.587742e+00  -3.552695e+00        -1.207529e+00   \n",
       "25%           -7.692944e-01 -1.250874e+00  -6.032936e-01        -1.207529e+00   \n",
       "50%           -2.199617e-01  7.544282e-01   2.641773e-01         8.281373e-01   \n",
       "75%            6.083971e-01  7.544282e-01   7.268285e-01         8.281373e-01   \n",
       "max            8.647837e+00  7.544282e-01   1.709962e+00         8.281373e-01   \n",
       "\n",
       "       debt_to_income_ratio  borrower_credit_score  loan_purpose  ...  \\\n",
       "count          1.160580e+05           1.160580e+05  1.160580e+05  ...   \n",
       "mean          -4.558249e-17           1.053441e-15  1.829718e-15  ...   \n",
       "std            1.000004e+00           1.000004e+00  1.000004e+00  ...   \n",
       "min           -3.056524e+00          -1.824016e+01 -8.973400e-01  ...   \n",
       "25%           -7.956517e-01          -4.483900e-01 -8.973400e-01  ...   \n",
       "50%            2.648380e-02           2.860240e-01 -8.973400e-01  ...   \n",
       "75%            8.486193e-01           7.124579e-01  3.163262e-01  ...   \n",
       "max            3.417793e+00           1.660089e+00  1.529992e+00  ...   \n",
       "\n",
       "                 m7            m8            m9           m10           m11  \\\n",
       "count  1.160580e+05  1.160580e+05  1.160580e+05  1.160580e+05  1.160580e+05   \n",
       "mean  -1.289509e-14 -3.712566e-14 -2.005542e-14 -1.414341e-14  4.808151e-15   \n",
       "std    1.000004e+00  1.000004e+00  1.000004e+00  1.000004e+00  1.000004e+00   \n",
       "min   -4.122105e-02 -4.265242e-02 -4.179149e-02 -4.458259e-02 -4.364174e-02   \n",
       "25%   -4.122105e-02 -4.265242e-02 -4.179149e-02 -4.458259e-02 -4.364174e-02   \n",
       "50%   -4.122105e-02 -4.265242e-02 -4.179149e-02 -4.458259e-02 -4.364174e-02   \n",
       "75%   -4.122105e-02 -4.265242e-02 -4.179149e-02 -4.458259e-02 -4.364174e-02   \n",
       "max    8.910225e+01  8.835297e+01  8.573409e+01  8.080176e+01  7.976805e+01   \n",
       "\n",
       "                m12  org_year     org_month  firstpay_year  firstpay_month  \n",
       "count  1.160580e+05  116058.0  1.160580e+05       116058.0    1.160580e+05  \n",
       "mean  -4.810822e-14       0.0  1.783428e-16            0.0   -2.084179e-15  \n",
       "std    1.000004e+00       0.0  1.000004e+00            0.0    1.000004e+00  \n",
       "min   -4.527618e-02       0.0 -1.035598e+00            0.0   -2.483371e+00  \n",
       "25%   -4.527618e-02       0.0 -1.035598e+00            0.0   -1.030689e+00  \n",
       "50%   -4.527618e-02       0.0  4.373840e-01            0.0    4.219936e-01  \n",
       "75%   -4.527618e-02       0.0  4.373840e-01            0.0    4.219936e-01  \n",
       "max    7.855011e+01       0.0  1.910366e+00            0.0    1.874676e+00  \n",
       "\n",
       "[8 rows x 29 columns]"
      ]
     },
     "execution_count": 53,
     "metadata": {},
     "output_type": "execute_result"
    }
   ],
   "source": [
    "X.describe()"
   ]
  },
  {
   "cell_type": "code",
   "execution_count": 54,
   "metadata": {},
   "outputs": [],
   "source": [
    "# split target and features\n",
    "y = data1['m13']"
   ]
  },
  {
   "cell_type": "code",
   "execution_count": 55,
   "metadata": {},
   "outputs": [],
   "source": [
    "X_train, X_test, y_train, y_test = train_test_split(X,y, test_size=0.2, random_state=42)"
   ]
  },
  {
   "cell_type": "markdown",
   "metadata": {},
   "source": [
    "#### Logistic Regression Model"
   ]
  },
  {
   "cell_type": "code",
   "execution_count": 56,
   "metadata": {},
   "outputs": [],
   "source": [
    "log_reg = LogisticRegression()\n",
    "log_reg_models = log_reg.fit(X_train,y_train)\n",
    "log_preds = log_reg_models.predict(X_test)"
   ]
  },
  {
   "cell_type": "code",
   "execution_count": 57,
   "metadata": {},
   "outputs": [
    {
     "name": "stdout",
     "output_type": "stream",
     "text": [
      "Confusion matrix is :\n",
      " [[23081     3]\n",
      " [   88    40]]\n"
     ]
    }
   ],
   "source": [
    "print(\"Confusion matrix is :\\n\", confusion_matrix(y_test,log_preds))"
   ]
  },
  {
   "cell_type": "code",
   "execution_count": 58,
   "metadata": {},
   "outputs": [
    {
     "name": "stdout",
     "output_type": "stream",
     "text": [
      "Accuracy score is: 0.9960796139927623\n"
     ]
    }
   ],
   "source": [
    "print(\"Accuracy score is:\",accuracy_score(y_test, log_preds))"
   ]
  },
  {
   "cell_type": "markdown",
   "metadata": {},
   "source": [
    "#### KNN model"
   ]
  },
  {
   "cell_type": "code",
   "execution_count": 59,
   "metadata": {},
   "outputs": [],
   "source": [
    "knn = KNeighborsClassifier(n_neighbors=6)\n",
    "knn_models1 = knn.fit(X_train, y_train)\n",
    "knn_preds1 = knn_models1.predict(X_test)"
   ]
  },
  {
   "cell_type": "code",
   "execution_count": 60,
   "metadata": {},
   "outputs": [
    {
     "name": "stdout",
     "output_type": "stream",
     "text": [
      "Confusion matrix is :\n",
      " [[23077     7]\n",
      " [   91    37]]\n"
     ]
    }
   ],
   "source": [
    "print(\"Confusion matrix is :\\n\", confusion_matrix(y_test,knn_preds1))"
   ]
  },
  {
   "cell_type": "code",
   "execution_count": 61,
   "metadata": {},
   "outputs": [
    {
     "name": "stdout",
     "output_type": "stream",
     "text": [
      "Accuracy score is: 0.9957780458383595\n"
     ]
    }
   ],
   "source": [
    "print(\"Accuracy score is:\",accuracy_score(y_test, knn_preds1))"
   ]
  },
  {
   "cell_type": "markdown",
   "metadata": {},
   "source": [
    "#### SVM model"
   ]
  },
  {
   "cell_type": "code",
   "execution_count": 62,
   "metadata": {},
   "outputs": [],
   "source": [
    "svm = SVC(kernel=\"rbf\")\n",
    "svm_models = svm.fit(X_train, y_train)\n",
    "svm_preds = svm_models.predict(X_test)"
   ]
  },
  {
   "cell_type": "code",
   "execution_count": 63,
   "metadata": {},
   "outputs": [
    {
     "name": "stdout",
     "output_type": "stream",
     "text": [
      "Confusion matrix is :\n",
      " [[23080     4]\n",
      " [  115    13]]\n"
     ]
    }
   ],
   "source": [
    "print(\"Confusion matrix is :\\n\", confusion_matrix(y_test,svm_preds))"
   ]
  },
  {
   "cell_type": "code",
   "execution_count": 64,
   "metadata": {},
   "outputs": [
    {
     "name": "stdout",
     "output_type": "stream",
     "text": [
      "Accuracy score is: 0.9948733413751508\n"
     ]
    }
   ],
   "source": [
    "print(\"Accuracy score is:\",accuracy_score(y_test, svm_preds))"
   ]
  },
  {
   "cell_type": "markdown",
   "metadata": {},
   "source": [
    "After scaling, accuracy improved for Logistic regression, KNN and SVM models. Overall Logistic Regression model on scaled data showed best accuracy (99.60%)."
   ]
  },
  {
   "cell_type": "code",
   "execution_count": null,
   "metadata": {},
   "outputs": [],
   "source": []
  }
 ],
 "metadata": {
  "colab": {
   "provenance": []
  },
  "kernelspec": {
   "display_name": "Python 3 (ipykernel)",
   "language": "python",
   "name": "python3"
  },
  "language_info": {
   "codemirror_mode": {
    "name": "ipython",
    "version": 3
   },
   "file_extension": ".py",
   "mimetype": "text/x-python",
   "name": "python",
   "nbconvert_exporter": "python",
   "pygments_lexer": "ipython3",
   "version": "3.9.7"
  }
 },
 "nbformat": 4,
 "nbformat_minor": 1
}
