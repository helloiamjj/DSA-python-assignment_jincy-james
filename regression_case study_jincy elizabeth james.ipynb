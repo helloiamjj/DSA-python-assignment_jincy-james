{
 "cells": [
  {
   "cell_type": "markdown",
   "id": "a450f9c3",
   "metadata": {},
   "source": [
    "## Case study on Regression\n"
   ]
  },
  {
   "cell_type": "code",
   "execution_count": 1,
   "id": "a84ac57d",
   "metadata": {},
   "outputs": [],
   "source": [
    "# import libraries\n",
    "import numpy as np\n",
    "import pandas as pd\n",
    "import matplotlib.pyplot as plt\n",
    "import seaborn as sns"
   ]
  },
  {
   "cell_type": "markdown",
   "id": "ef9d78d0",
   "metadata": {},
   "source": [
    "The given dataset contains price of second-hand Hyundai grand i10 car with respect to year of making."
   ]
  },
  {
   "cell_type": "code",
   "execution_count": 2,
   "id": "495a5837",
   "metadata": {},
   "outputs": [],
   "source": [
    "# read the csv file containing second hand i10 car data\n",
    "\n",
    "df = pd.read_csv(\"car_age_price.csv\")"
   ]
  },
  {
   "cell_type": "code",
   "execution_count": 3,
   "id": "2c1420be",
   "metadata": {},
   "outputs": [
    {
     "data": {
      "text/html": [
       "<div>\n",
       "<style scoped>\n",
       "    .dataframe tbody tr th:only-of-type {\n",
       "        vertical-align: middle;\n",
       "    }\n",
       "\n",
       "    .dataframe tbody tr th {\n",
       "        vertical-align: top;\n",
       "    }\n",
       "\n",
       "    .dataframe thead th {\n",
       "        text-align: right;\n",
       "    }\n",
       "</style>\n",
       "<table border=\"1\" class=\"dataframe\">\n",
       "  <thead>\n",
       "    <tr style=\"text-align: right;\">\n",
       "      <th></th>\n",
       "      <th>Year</th>\n",
       "      <th>Price</th>\n",
       "    </tr>\n",
       "  </thead>\n",
       "  <tbody>\n",
       "    <tr>\n",
       "      <th>0</th>\n",
       "      <td>2018</td>\n",
       "      <td>465000</td>\n",
       "    </tr>\n",
       "    <tr>\n",
       "      <th>1</th>\n",
       "      <td>2019</td>\n",
       "      <td>755000</td>\n",
       "    </tr>\n",
       "    <tr>\n",
       "      <th>2</th>\n",
       "      <td>2019</td>\n",
       "      <td>700000</td>\n",
       "    </tr>\n",
       "    <tr>\n",
       "      <th>3</th>\n",
       "      <td>2018</td>\n",
       "      <td>465000</td>\n",
       "    </tr>\n",
       "    <tr>\n",
       "      <th>4</th>\n",
       "      <td>2018</td>\n",
       "      <td>465000</td>\n",
       "    </tr>\n",
       "  </tbody>\n",
       "</table>\n",
       "</div>"
      ],
      "text/plain": [
       "   Year   Price\n",
       "0  2018  465000\n",
       "1  2019  755000\n",
       "2  2019  700000\n",
       "3  2018  465000\n",
       "4  2018  465000"
      ]
     },
     "execution_count": 3,
     "metadata": {},
     "output_type": "execute_result"
    }
   ],
   "source": [
    "# display the top 5 rows of dataset\n",
    "\n",
    "df.head()"
   ]
  },
  {
   "cell_type": "markdown",
   "id": "a6633717",
   "metadata": {},
   "source": [
    "The dataframe contains the Year of making and Price of the car as columns."
   ]
  },
  {
   "cell_type": "code",
   "execution_count": 4,
   "id": "18595271",
   "metadata": {},
   "outputs": [
    {
     "data": {
      "text/plain": [
       "(112, 2)"
      ]
     },
     "execution_count": 4,
     "metadata": {},
     "output_type": "execute_result"
    }
   ],
   "source": [
    "df.shape"
   ]
  },
  {
   "cell_type": "markdown",
   "id": "13639fa8",
   "metadata": {},
   "source": [
    "### Find the best linear relationship between year and price."
   ]
  },
  {
   "cell_type": "code",
   "execution_count": 5,
   "id": "d354780b",
   "metadata": {},
   "outputs": [
    {
     "data": {
      "image/png": "[encoded data removed]",
      "text/plain": [
       "<Figure size 720x432 with 2 Axes>"
      ]
     },
     "metadata": {
      "needs_background": "light"
     },
     "output_type": "display_data"
    }
   ],
   "source": [
    "# find the correlation coefficient and plot it using heatmap\n",
    "\n",
    "corrmatrix = df.corr()\n",
    "plt.subplots(figsize=(10,6))\n",
    "sns.heatmap(corrmatrix, annot=True , cmap=\"YlGnBu\")\n",
    "plt.show()\n"
   ]
  },
  {
   "cell_type": "markdown",
   "id": "c5675402",
   "metadata": {},
   "source": [
    "The correlation coefficient value is 0.78 for year vs price. It shows that there is a strong positive correlation between them."
   ]
  },
  {
   "cell_type": "code",
   "execution_count": 6,
   "id": "d243eca6",
   "metadata": {},
   "outputs": [],
   "source": [
    "# separate the dependent/target(price) and independent(year) values\n",
    "\n",
    "X = df.drop(['Price'], axis=1)\n",
    "y = df['Price']"
   ]
  },
  {
   "cell_type": "code",
   "execution_count": 7,
   "id": "a8dbd731",
   "metadata": {},
   "outputs": [],
   "source": [
    "# split the data into training and testing\n",
    "# import train_test_split from sklearn\n",
    "\n",
    "from sklearn.model_selection import train_test_split\n",
    "X_train , X_test, y_train, y_test = train_test_split(X,y,test_size=0.2, random_state=42)"
   ]
  },
  {
   "cell_type": "markdown",
   "id": "ee3e8ce6",
   "metadata": {},
   "source": [
    "### Linear Regression model"
   ]
  },
  {
   "cell_type": "code",
   "execution_count": 8,
   "id": "0665d4cf",
   "metadata": {},
   "outputs": [],
   "source": [
    "#import Linear Regression from sklearn\n",
    "\n",
    "from sklearn.linear_model import LinearRegression\n"
   ]
  },
  {
   "cell_type": "code",
   "execution_count": 9,
   "id": "4c60a5ed",
   "metadata": {},
   "outputs": [],
   "source": [
    "# create a linear regression model\n",
    "lr = LinearRegression()\n",
    "model = lr.fit(X_train,y_train)\n",
    "predictions = model.predict(X_test)"
   ]
  },
  {
   "cell_type": "code",
   "execution_count": 10,
   "id": "acc80dad",
   "metadata": {},
   "outputs": [
    {
     "name": "stdout",
     "output_type": "stream",
     "text": [
      "The test values are:\n",
      " 40     525000\n",
      "65     495000\n",
      "4      465000\n",
      "47     450000\n",
      "42     550000\n",
      "69     300000\n",
      "26     550000\n",
      "11     500000\n",
      "10     500000\n",
      "44     550000\n",
      "73     320000\n",
      "55     550000\n",
      "68     465000\n",
      "97     640000\n",
      "0      465000\n",
      "18     500000\n",
      "53     345000\n",
      "80     390000\n",
      "103    375000\n",
      "91     520000\n",
      "36     550000\n",
      "12     500000\n",
      "31     550000\n",
      "Name: Price, dtype: int64\n",
      "The prediction values are :\n",
      " [600775.91252081 505558.77690466 553167.34471273 553167.34471273\n",
      " 553167.34471273 410341.6412885  505558.77690466 553167.34471273\n",
      " 600775.91252081 600775.91252081 315124.50567235 505558.77690466\n",
      " 410341.6412885  648384.48032889 553167.34471273 600775.91252081\n",
      " 315124.50567235 410341.6412885  505558.77690466 505558.77690466\n",
      " 505558.77690466 505558.77690466 505558.77690466]\n"
     ]
    }
   ],
   "source": [
    "#print the predictions and test values\n",
    "print(\"The test values are:\\n\",y_test)\n",
    "print(\"The prediction values are :\\n\", predictions)"
   ]
  },
  {
   "cell_type": "code",
   "execution_count": 11,
   "id": "77eecebf",
   "metadata": {},
   "outputs": [
    {
     "name": "stdout",
     "output_type": "stream",
     "text": [
      "The mean squared error is : 4326906256.829671\n",
      "R squared value is: 0.36759313425902185\n"
     ]
    }
   ],
   "source": [
    "#evaluate the model by finding mean squared error and r squared value\n",
    "\n",
    "from sklearn.metrics import mean_squared_error,r2_score\n",
    "print(\"The mean squared error is :\",mean_squared_error(y_test,predictions))\n",
    "print(\"R squared value is:\", r2_score(y_test,predictions))\n"
   ]
  },
  {
   "cell_type": "markdown",
   "id": "8bfdf7c2",
   "metadata": {},
   "source": [
    "In this case, the error mean squared error is very high and the goodness of fit is low."
   ]
  },
  {
   "cell_type": "code",
   "execution_count": 12,
   "id": "27e8f024",
   "metadata": {},
   "outputs": [],
   "source": [
    "# calculate linear regression again by changing the test size to 0.25\n",
    "\n",
    "X_train , X_test, y_train, y_test = train_test_split(X,y,test_size=0.25, random_state=42)\n",
    "\n"
   ]
  },
  {
   "cell_type": "code",
   "execution_count": 13,
   "id": "ae971389",
   "metadata": {},
   "outputs": [],
   "source": [
    "# create a linear regression model\n",
    "\n",
    "lr1 = LinearRegression()\n",
    "model1 = lr1.fit(X_train,y_train)\n",
    "predictions1 = model1.predict(X_test)"
   ]
  },
  {
   "cell_type": "code",
   "execution_count": 14,
   "id": "b9f27d54",
   "metadata": {},
   "outputs": [
    {
     "name": "stdout",
     "output_type": "stream",
     "text": [
      "The test values are:\n",
      " 40     525000\n",
      "65     495000\n",
      "4      465000\n",
      "47     450000\n",
      "42     550000\n",
      "69     300000\n",
      "26     550000\n",
      "11     500000\n",
      "10     500000\n",
      "44     550000\n",
      "73     320000\n",
      "55     550000\n",
      "68     465000\n",
      "97     640000\n",
      "0      465000\n",
      "18     500000\n",
      "53     345000\n",
      "80     390000\n",
      "103    375000\n",
      "91     520000\n",
      "36     550000\n",
      "12     500000\n",
      "31     550000\n",
      "66     525000\n",
      "90     520000\n",
      "62     540000\n",
      "22     434999\n",
      "85     320000\n",
      "Name: Price, dtype: int64\n",
      "The prediction values are :\n",
      " [599223.07304104 505265.04214995 552244.05759549 552244.05759549\n",
      " 552244.05759549 411307.01125886 505265.04214995 552244.05759549\n",
      " 599223.07304104 599223.07304104 317348.98036776 505265.04214995\n",
      " 411307.01125886 646202.08848657 552244.05759549 599223.07304104\n",
      " 317348.98036776 411307.01125886 505265.04214995 505265.04214995\n",
      " 505265.04214995 505265.04214995 505265.04214995 505265.04214995\n",
      " 505265.04214995 505265.04214995 411307.01125886 411307.01125886]\n"
     ]
    }
   ],
   "source": [
    "#print the predictions and test values\n",
    "print(\"The test values are:\\n\",y_test)\n",
    "print(\"The prediction values are :\\n\", predictions1)"
   ]
  },
  {
   "cell_type": "code",
   "execution_count": 15,
   "id": "192da05b",
   "metadata": {},
   "outputs": [
    {
     "name": "stdout",
     "output_type": "stream",
     "text": [
      "The mean squared error is : 3878767151.073449\n",
      "R squared value is: 0.4347961632108023\n"
     ]
    }
   ],
   "source": [
    "#evaluate the model by finding mean squared error and r squared value\n",
    "print(\"The mean squared error is :\",mean_squared_error(y_test,predictions1))\n",
    "print(\"R squared value is:\", r2_score(y_test,predictions1))"
   ]
  },
  {
   "cell_type": "markdown",
   "id": "fc638411",
   "metadata": {},
   "source": [
    "The mean squared error and R squared value slightly reduced when the test size was changed to 0.25. Thus model1 forms the best linear relationship between year and price. "
   ]
  },
  {
   "cell_type": "markdown",
   "id": "158ab10c",
   "metadata": {},
   "source": [
    "### Predict the possible price of a 2022 model second-hand grand i10?"
   ]
  },
  {
   "cell_type": "code",
   "execution_count": 16,
   "id": "d4bbe6e0",
   "metadata": {},
   "outputs": [
    {
     "data": {
      "image/png": "[encoded data removed]",
      "text/plain": [
       "<Figure size 576x432 with 1 Axes>"
      ]
     },
     "metadata": {
      "needs_background": "light"
     },
     "output_type": "display_data"
    }
   ],
   "source": [
    "# visualize X_test, y_test and predictions1 using scatter plot\n",
    "plt.figure(figsize=(8,6))\n",
    "plt.scatter(X_test , y_test, label=\"actual\")\n",
    "plt.plot(X_test,predictions1 , c = \"r\", label=\"predicted\")\n",
    "plt.title(\"Year vs Price\")\n",
    "plt.xlabel(\"Year\")\n",
    "plt.ylabel(\"Price\")\n",
    "plt.legend()\n",
    "plt.show()"
   ]
  },
  {
   "cell_type": "code",
   "execution_count": 17,
   "id": "847606e6",
   "metadata": {},
   "outputs": [
    {
     "data": {
      "text/plain": [
       "array([[2022]])"
      ]
     },
     "execution_count": 17,
     "metadata": {},
     "output_type": "execute_result"
    }
   ],
   "source": [
    "# create a new array with the year 2022\n",
    "new_pred = np.array(2022).reshape(-1,1)\n",
    "new_pred"
   ]
  },
  {
   "cell_type": "code",
   "execution_count": 19,
   "id": "aaeee706",
   "metadata": {},
   "outputs": [
    {
     "name": "stdout",
     "output_type": "stream",
     "text": [
      "The predicted price of i10 for the year 2022 is : 740160.1193776578\n"
     ]
    }
   ],
   "source": [
    "# input the new array to the model1\n",
    "y_pred = model1.predict(new_pred)\n",
    "print(\"The predicted price of i10 for the year 2022 is :\",  y_pred[0])"
   ]
  },
  {
   "cell_type": "markdown",
   "id": "e7be0989",
   "metadata": {},
   "source": [
    "### Lasso Regression model"
   ]
  },
  {
   "cell_type": "code",
   "execution_count": 20,
   "id": "31224281",
   "metadata": {},
   "outputs": [],
   "source": [
    "X_train , X_test, y_train, y_test = train_test_split(X,y,test_size=0.25, random_state=42)"
   ]
  },
  {
   "cell_type": "code",
   "execution_count": 21,
   "id": "d74a70fd",
   "metadata": {},
   "outputs": [],
   "source": [
    "# import Lasso from sklearn library\n",
    "from sklearn.linear_model import Lasso\n",
    "\n",
    "# create Lasso Regression model\n",
    "\n",
    "lasso = Lasso(alpha=1)\n",
    "model2 = lasso.fit(X_train,y_train)\n",
    "y_predlasso = model2.predict(X_test)"
   ]
  },
  {
   "cell_type": "code",
   "execution_count": 22,
   "id": "3191cbe0",
   "metadata": {},
   "outputs": [
    {
     "name": "stdout",
     "output_type": "stream",
     "text": [
      "The test values are:\n",
      " 40     525000\n",
      "65     495000\n",
      "4      465000\n",
      "47     450000\n",
      "42     550000\n",
      "69     300000\n",
      "26     550000\n",
      "11     500000\n",
      "10     500000\n",
      "44     550000\n",
      "73     320000\n",
      "55     550000\n",
      "68     465000\n",
      "97     640000\n",
      "0      465000\n",
      "18     500000\n",
      "53     345000\n",
      "80     390000\n",
      "103    375000\n",
      "91     520000\n",
      "36     550000\n",
      "12     500000\n",
      "31     550000\n",
      "66     525000\n",
      "90     520000\n",
      "62     540000\n",
      "22     434999\n",
      "85     320000\n",
      "Name: Price, dtype: int64\n",
      "The prediction values are :\n",
      " [599222.10828854 505264.87581331 552243.49205092 552243.49205092\n",
      " 552243.49205092 411307.64333805 505264.87581331 552243.49205092\n",
      " 599222.10828854 599222.10828854 317350.4108628  505264.87581331\n",
      " 411307.64333805 646200.72452617 552243.49205092 599222.10828854\n",
      " 317350.4108628  411307.64333805 505264.87581331 505264.87581331\n",
      " 505264.87581331 505264.87581331 505264.87581331 505264.87581331\n",
      " 505264.87581331 505264.87581331 411307.64333805 411307.64333805]\n"
     ]
    }
   ],
   "source": [
    "#print the predictions and test values\n",
    "print(\"The test values are:\\n\",y_test)\n",
    "print(\"The prediction values are :\\n\", y_predlasso)"
   ]
  },
  {
   "cell_type": "code",
   "execution_count": 23,
   "id": "cc0bda55",
   "metadata": {},
   "outputs": [
    {
     "name": "stdout",
     "output_type": "stream",
     "text": [
      "The mean squared error is : 3878735896.222091\n",
      "R squared value is: 0.4348007175862566\n"
     ]
    }
   ],
   "source": [
    "#evaluate the model by finding mean squared error and r squared value\n",
    "print(\"The mean squared error is :\",mean_squared_error(y_test,y_predlasso))\n",
    "print(\"R squared value is:\", r2_score(y_test,y_predlasso))"
   ]
  },
  {
   "cell_type": "markdown",
   "id": "813df21b",
   "metadata": {},
   "source": [
    "There is only slight variation when using Lasso model. However, the mean squared error has reduced in Lasso Regression compared to linear Regression."
   ]
  },
  {
   "cell_type": "code",
   "execution_count": 24,
   "id": "6a6b9a5e",
   "metadata": {},
   "outputs": [],
   "source": [
    "#try Lasso Regression with alpha = 10\n",
    "\n",
    "lasso1 = Lasso(alpha=10)\n",
    "model3 = lasso1.fit(X_train,y_train)\n",
    "y_predlasso1 = model3.predict(X_test)"
   ]
  },
  {
   "cell_type": "code",
   "execution_count": 103,
   "id": "b4c188b5",
   "metadata": {},
   "outputs": [
    {
     "name": "stdout",
     "output_type": "stream",
     "text": [
      "The test values are:\n",
      " 40     525000\n",
      "65     495000\n",
      "4      465000\n",
      "47     450000\n",
      "42     550000\n",
      "69     300000\n",
      "26     550000\n",
      "11     500000\n",
      "10     500000\n",
      "44     550000\n",
      "73     320000\n",
      "55     550000\n",
      "68     465000\n",
      "97     640000\n",
      "0      465000\n",
      "18     500000\n",
      "53     345000\n",
      "80     390000\n",
      "103    375000\n",
      "91     520000\n",
      "36     550000\n",
      "12     500000\n",
      "31     550000\n",
      "66     525000\n",
      "90     520000\n",
      "62     540000\n",
      "22     434999\n",
      "85     320000\n",
      "Name: Price, dtype: int64\n",
      "The prediction values are :\n",
      " [599213.42551628 505263.3787836  552238.40214995 552238.40214995\n",
      " 552238.40214995 411313.33205093 505263.3787836  552238.40214995\n",
      " 599213.42551628 599213.42551628 317363.28531826 505263.3787836\n",
      " 411313.33205093 646188.44888261 552238.40214995 599213.42551628\n",
      " 317363.28531826 411313.33205093 505263.3787836  505263.3787836\n",
      " 505263.3787836  505263.3787836  505263.3787836  505263.3787836\n",
      " 505263.3787836  505263.3787836  411313.33205093 411313.33205093]\n"
     ]
    }
   ],
   "source": [
    "#print the predictions and test values\n",
    "\n",
    "print(\"The test values are:\\n\",y_test)\n",
    "print(\"The prediction values are :\\n\", y_predlasso1)"
   ]
  },
  {
   "cell_type": "code",
   "execution_count": 25,
   "id": "fa0f4803",
   "metadata": {},
   "outputs": [
    {
     "name": "stdout",
     "output_type": "stream",
     "text": [
      "The mean squared error is : 3878454646.2104197\n",
      "R squared value is: 0.43484170060470095\n"
     ]
    }
   ],
   "source": [
    "#evaluate the model by finding mean squared error and r squared value\n",
    "print(\"The mean squared error is :\",mean_squared_error(y_test,y_predlasso1))\n",
    "print(\"R squared value is:\", r2_score(y_test,y_predlasso1))"
   ]
  },
  {
   "cell_type": "markdown",
   "id": "8d127351",
   "metadata": {},
   "source": [
    "The mean squared error lowered further after increasing the alpha value (regularization).So lasso model is performing slightly better for car_age_price dataset compared to Linear Regression model."
   ]
  },
  {
   "cell_type": "code",
   "execution_count": null,
   "id": "6a3c90a0",
   "metadata": {},
   "outputs": [],
   "source": []
  }
 ],
 "metadata": {
  "kernelspec": {
   "display_name": "Python 3 (ipykernel)",
   "language": "python",
   "name": "python3"
  },
  "language_info": {
   "codemirror_mode": {
    "name": "ipython",
    "version": 3
   },
   "file_extension": ".py",
   "mimetype": "text/x-python",
   "name": "python",
   "nbconvert_exporter": "python",
   "pygments_lexer": "ipython3",
   "version": "3.9.7"
  }
 },
 "nbformat": 4,
 "nbformat_minor": 5
}
